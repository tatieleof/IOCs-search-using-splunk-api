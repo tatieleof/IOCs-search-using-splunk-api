{
 "cells": [
  {
   "cell_type": "markdown",
   "metadata": {},
   "source": [
    "# Searching for IOCs on Splunk using Splunk API:\n",
    "\n",
    "This notebook will (hopefully) help you to search for IOCs on Splunk. This is specially usefull when you receive a Threat Intel Report containing a .csv file attached with a big list of IOCs. \n",
    "***\n"
   ]
  },
  {
   "cell_type": "markdown",
   "metadata": {},
   "source": [
    "## 1) Import the following libraries:"
   ]
  },
  {
   "cell_type": "code",
   "execution_count": null,
   "metadata": {},
   "outputs": [],
   "source": [
    "import pandas as pd\n",
    "import numpy as np\n",
    "import splunklib.client as client\n",
    "import splunklib.results as results\n",
    "import requests\n",
    "from urllib.parse import urlparse\n",
    "from time import sleep"
   ]
  },
  {
   "cell_type": "markdown",
   "metadata": {},
   "source": [
    "## 2) Connect to Splunk server:\n",
    "\n",
    "Update the following block with the information needed to connect to your Splunk instance.\n",
    "Ref: https://dev.splunk.com/enterprise/docs/devtools/python/sdk-python/howtousesplunkpython/howtoconnectpython/"
   ]
  },
  {
   "cell_type": "code",
   "execution_count": null,
   "metadata": {},
   "outputs": [],
   "source": [
    "# Splunk server: \n",
    "HOST = \"xx.xx.xx.xx\"\n",
    "PORT = xxx\n",
    "\n",
    "# Token is created from api-user expires after year.\n",
    "SESSION_KEY = XXXXXXXXXXX\n",
    "\n",
    "# Create a Service instance and log in: \n",
    "service = client.connect(\n",
    "    host=HOST,\n",
    "    port=PORT,\n",
    "    token=SESSION_KEY)"
   ]
  },
  {
   "cell_type": "markdown",
   "metadata": {},
   "source": [
    "## 3) Upload the .csv cointaing the IoCs:\n",
    "Change the following path to the location of the .csv on your local machine.\n",
    "***\n",
    "<font color='red'>IMPORTANT: </font>  The IOCs are likely defanged (8[.]8[.]8[.]8 or hxxp: ), you need to remove the square brackets and extra characters before importing the .csv. You can easily do it using Find/Replace on Excel or text editor.\n",
    "This code is considering that the .csv file contains the columns ['Type','Indicator', 'Attribution'], if this is not your case you might have to edit it accordingly. \n",
    "***"
   ]
  },
  {
   "cell_type": "code",
   "execution_count": null,
   "metadata": {},
   "outputs": [],
   "source": [
    "iocs = pd.read_csv(\"C:/Users/mr.robot/Desktop/IOC_list.csv\", usecols = ['Type','Indicator', 'Attribution'])\n",
    "iocs = iocs.dropna()"
   ]
  },
  {
   "cell_type": "markdown",
   "metadata": {},
   "source": [
    "## 4) Hash search:"
   ]
  },
  {
   "cell_type": "code",
   "execution_count": null,
   "metadata": {},
   "outputs": [],
   "source": [
    "# Create a dataframe with the hash values in the .csv:\n",
    "hashes = iocs.loc[(iocs['Type']=='SHA256') | (iocs['Type']=='MD5')]\n",
    "hashes = hashes['Indicator']\n",
    "hashes = [','.join(map(str, hashes))]\n",
    "hashes = ' '.join([str(item) for item in hashes])"
   ]
  },
  {
   "cell_type": "code",
   "execution_count": null,
   "metadata": {},
   "outputs": [],
   "source": [
    "# Send the search to Splunk, this might take some time depending on the amount of iocs:\n",
    "# The only value that needs to be changed is the timeframe for the search (earliest=-15d)"
   ]
  },
  {
   "cell_type": "code",
   "execution_count": null,
   "metadata": {},
   "outputs": [],
   "source": [
    "# The variable job contains the SPL along the timeframe for the search. The SPL will depend on your data on Splunk:\n",
    "job = service.jobs.create(\"SPL goes here\")\n",
    "while not job.is_done():\n",
    "    sleep(.2)\n",
    "rr = results.JSONResultsReader(job.results(output_mode='json'))\n",
    "matches = pd.DataFrame()\n",
    "for result in rr:\n",
    "    if isinstance(result, results.Message):\n",
    "        # Diagnostic messages may be returned in the results\n",
    "        print('%s: %s' % (result.type, result.message))\n",
    "    elif isinstance(result, dict):\n",
    "        # Normal events are returned as dicts\n",
    "        print(result)\n",
    "        matches = matches.append(result, ignore_index= True)\n",
    "assert rr.is_preview == False"
   ]
  },
  {
   "cell_type": "code",
   "execution_count": null,
   "metadata": {},
   "outputs": [],
   "source": [
    "# If there were any matches, you will see them bellow:\n",
    "matches"
   ]
  },
  {
   "cell_type": "markdown",
   "metadata": {},
   "source": [
    "## 5) IP search:"
   ]
  },
  {
   "cell_type": "code",
   "execution_count": null,
   "metadata": {},
   "outputs": [],
   "source": [
    "# Create a dataframe with the IPs values in the .csv:\n",
    "ips = iocs.loc[(iocs['Type']=='IPv4') | (iocs['Type']=='IPv6') | (iocs['Type']=='IPv4')]\n",
    "ips = ips['Indicator']\n",
    "ips = [','.join(map(str, ips))]\n",
    "ips = ' '.join([str(item) for item in ips])"
   ]
  },
  {
   "cell_type": "code",
   "execution_count": null,
   "metadata": {},
   "outputs": [],
   "source": [
    "# The variable job contains the SPL along the timeframe for the search:\n",
    "job = service.jobs.create(\"SPL goes here\")\n",
    "while not job.is_done():\n",
    "    sleep(.2)\n",
    "rr = results.JSONResultsReader(job.results(output_mode='json'))\n",
    "matches = pd.DataFrame()\n",
    "for result in rr:\n",
    "    if isinstance(result, results.Message):\n",
    "        # Diagnostic messages may be returned in the results\n",
    "        print('%s: %s' % (result.type, result.message))\n",
    "    elif isinstance(result, dict):\n",
    "        # Normal events are returned as dicts\n",
    "        #print(result)\n",
    "        matches = matches.append(result, ignore_index= True)\n",
    "assert rr.is_preview == False"
   ]
  },
  {
   "cell_type": "code",
   "execution_count": null,
   "metadata": {},
   "outputs": [],
   "source": [
    "# If there were any matches, you will see them bellow:\n",
    "matches"
   ]
  },
  {
   "cell_type": "markdown",
   "metadata": {},
   "source": [
    "## 6) Domain search:"
   ]
  },
  {
   "cell_type": "code",
   "execution_count": null,
   "metadata": {},
   "outputs": [],
   "source": [
    "# Create a dataframe with the Domain values in the .csv:\n",
    "domains = iocs.loc[(iocs['Type']=='Domain')]\n",
    "domains = domains['Indicator']\n",
    "domains = [','.join(map(str, domains))]\n",
    "domains = ' '.join([str(item) for item in domains])"
   ]
  },
  {
   "cell_type": "code",
   "execution_count": null,
   "metadata": {},
   "outputs": [],
   "source": [
    "# The variable job contains the SPL along the timeframe for the search:\n",
    "job = service.jobs.create(\"SPL goes here\")\n",
    "while not job.is_done():\n",
    "    sleep(.2)\n",
    "rr = results.JSONResultsReader(job.results(output_mode='json'))\n",
    "matches = pd.DataFrame()\n",
    "for result in rr:\n",
    "    if isinstance(result, results.Message):\n",
    "        # Diagnostic messages may be returned in the results\n",
    "        print('%s: %s' % (result.type, result.message))\n",
    "    elif isinstance(result, dict):\n",
    "        # Normal events are returned as dicts\n",
    "        print(result)\n",
    "        matches = matches.append(result, ignore_index= True)\n",
    "assert rr.is_preview == False\n"
   ]
  },
  {
   "cell_type": "code",
   "execution_count": null,
   "metadata": {},
   "outputs": [],
   "source": [
    "# If there were any matches, you will see them bellow:\n",
    "matches"
   ]
  },
  {
   "cell_type": "markdown",
   "metadata": {},
   "source": [
    "## 7) URL search:"
   ]
  },
  {
   "cell_type": "markdown",
   "metadata": {},
   "source": [
    "####       URL:"
   ]
  },
  {
   "cell_type": "code",
   "execution_count": null,
   "metadata": {},
   "outputs": [],
   "source": [
    "# Create a dataframe with the URLs values in the .csv:\n",
    "urls = iocs.loc[(iocs['Type']=='URL')]\n",
    "urls = urls['Indicator']\n",
    "urls = [','.join(map(str, urls))]\n",
    "urls = ' '.join([str(item) for item in urls])"
   ]
  },
  {
   "cell_type": "code",
   "execution_count": null,
   "metadata": {},
   "outputs": [],
   "source": [
    "# The variable job contains the SPL along the timeframe for the search:\n",
    "job = service.jobs.create(\"SPL goes here\")\n",
    "while not job.is_done():\n",
    "    sleep(.2)\n",
    "rr = results.JSONResultsReader(job.results(output_mode='json'))\n",
    "matches = pd.DataFrame()\n",
    "for result in rr:\n",
    "    if isinstance(result, results.Message):\n",
    "        # Diagnostic messages may be returned in the results\n",
    "        print('%s: %s' % (result.type, result.message))\n",
    "    elif isinstance(result, dict):\n",
    "        # Normal events are returned as dicts\n",
    "        print(result)\n",
    "        matches = matches.append(result, ignore_index= True)\n",
    "assert rr.is_preview == False"
   ]
  },
  {
   "cell_type": "code",
   "execution_count": null,
   "metadata": {},
   "outputs": [],
   "source": [
    "urls"
   ]
  },
  {
   "cell_type": "code",
   "execution_count": null,
   "metadata": {},
   "outputs": [],
   "source": [
    "# If there were any matches, you will see them bellow:\n",
    "matches"
   ]
  },
  {
   "cell_type": "markdown",
   "metadata": {},
   "source": [
    "#### Path:"
   ]
  },
  {
   "cell_type": "code",
   "execution_count": null,
   "metadata": {},
   "outputs": [],
   "source": [
    "# Create a dataframe with the path values extracted from the URLs:\n",
    "urls = iocs.loc[(iocs['Type']=='URL')]\n",
    "urls = urls['Indicator']\n",
    "paths = []\n",
    "for url in path:\n",
    "    paths.append(urlparse(url).path)\n",
    "paths = [','.join(map(str, paths))]\n",
    "paths = ' '.join([str(item) for item in paths])"
   ]
  },
  {
   "cell_type": "code",
   "execution_count": null,
   "metadata": {},
   "outputs": [],
   "source": [
    "# The variable job contains the SPL along the timeframe for the search:\n",
    "job = service.jobs.create(\"SPL goes here\")\n",
    "while not job.is_done():\n",
    "    sleep(.2)\n",
    "rr = results.JSONResultsReader(job.results(output_mode='json'))\n",
    "matches = pd.DataFrame()\n",
    "for result in rr:\n",
    "    if isinstance(result, results.Message):\n",
    "        # Diagnostic messages may be returned in the results\n",
    "        print('%s: %s' % (result.type, result.message))\n",
    "    elif isinstance(result, dict):\n",
    "        # Normal events are returned as dicts\n",
    "        print(result)\n",
    "        matches = matches.append(result, ignore_index= True)\n",
    "assert rr.is_preview == False"
   ]
  },
  {
   "cell_type": "code",
   "execution_count": null,
   "metadata": {},
   "outputs": [],
   "source": [
    "paths"
   ]
  },
  {
   "cell_type": "code",
   "execution_count": null,
   "metadata": {},
   "outputs": [],
   "source": [
    "# If there were any matches, you will see them bellow:\n",
    "matches"
   ]
  },
  {
   "cell_type": "markdown",
   "metadata": {},
   "source": [
    "## CVE search:"
   ]
  },
  {
   "cell_type": "code",
   "execution_count": null,
   "metadata": {},
   "outputs": [],
   "source": [
    "# Create a dataframe with the CVE values in the .csv:\n",
    "cves = iocs.loc[(iocs['Type']=='CVE')]\n",
    "cves = cves['Indicator']\n",
    "cves = [','.join(map(str, cves))]\n",
    "cves= ' '.join([str(item) for item in cves])"
   ]
  },
  {
   "cell_type": "code",
   "execution_count": null,
   "metadata": {},
   "outputs": [],
   "source": [
    "# The variable job contains the SPL along the timeframe for the search:\n",
    "job = service.jobs.create(\"search index=vul earliest=-30d cve IN (\" + cves + \") | table ip cve\")\n",
    "while not job.is_done():\n",
    "    sleep(.2)\n",
    "rr = results.JSONResultsReader(job.results(output_mode='json'))\n",
    "matches = pd.DataFrame()\n",
    "for result in rr:\n",
    "    if isinstance(result, results.Message):\n",
    "        # Diagnostic messages may be returned in the results\n",
    "        print('%s: %s' % (result.type, result.message))\n",
    "    elif isinstance(result, dict):\n",
    "        # Normal events are returned as dicts\n",
    "        print(result)\n",
    "        matches = matches.append(result, ignore_index= True)\n",
    "assert rr.is_preview == False"
   ]
  },
  {
   "cell_type": "code",
   "execution_count": null,
   "metadata": {},
   "outputs": [],
   "source": [
    "# If there were any matches, you will see them bellow:\n",
    "matches"
   ]
  }
 ],
 "metadata": {
  "kernelspec": {
   "display_name": "Python 3 (ipykernel)",
   "language": "python",
   "name": "python3"
  },
  "language_info": {
   "codemirror_mode": {
    "name": "ipython",
    "version": 3
   },
   "file_extension": ".py",
   "mimetype": "text/x-python",
   "name": "python",
   "nbconvert_exporter": "python",
   "pygments_lexer": "ipython3",
   "version": "3.9.7"
  }
 },
 "nbformat": 4,
 "nbformat_minor": 4
}
